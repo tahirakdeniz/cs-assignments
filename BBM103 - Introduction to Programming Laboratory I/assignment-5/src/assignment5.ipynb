{
 "cells": [
  {
   "cell_type": "markdown",
   "metadata": {
    "id": "OwG70ccUHTBo"
   },
   "source": [
    "## Packages"
   ]
  },
  {
   "cell_type": "code",
   "execution_count": 18,
   "metadata": {
    "id": "dkDZVhPrHTBp"
   },
   "outputs": [
    {
     "name": "stdout",
     "output_type": "stream",
     "text": [
      "The autoreload extension is already loaded. To reload it, use:\n",
      "  %reload_ext autoreload\n"
     ]
    }
   ],
   "source": [
    "import time\n",
    "import numpy as np\n",
    "import h5py\n",
    "import matplotlib.pyplot as plt\n",
    "import scipy\n",
    "from PIL import Image\n",
    "from scipy import ndimage\n",
    "\n",
    "%matplotlib inline\n",
    "plt.rcParams['figure.figsize'] = (5.0, 4.0) # set default size of plots\n",
    "plt.rcParams['image.interpolation'] = 'nearest'\n",
    "plt.rcParams['image.cmap'] = 'gray'\n",
    "\n",
    "%load_ext autoreload\n",
    "%autoreload 2\n",
    "\n",
    "np.random.seed(1)"
   ]
  },
  {
   "cell_type": "code",
   "execution_count": 19,
   "metadata": {
    "id": "S9LzYLYuHTBq"
   },
   "outputs": [],
   "source": [
    "def load_data(path):\n",
    "    train_dataset = h5py.File(path+'/train_catvnoncat.h5', \"r\")\n",
    "    train_set_x_orig = np.array(train_dataset[\"train_set_x\"][:]) # your train set features\n",
    "    train_set_y_orig = np.array(train_dataset[\"train_set_y\"][:]) # your train set labels\n",
    "\n",
    "    test_dataset = h5py.File(path+'/test_catvnoncat.h5', \"r\")\n",
    "    test_set_x_orig = np.array(test_dataset[\"test_set_x\"][:]) # your test set features\n",
    "    test_set_y_orig = np.array(test_dataset[\"test_set_y\"][:]) # your test set labels\n",
    "\n",
    "    classes = np.array(test_dataset[\"list_classes\"][:]) # the list of classes\n",
    "    \n",
    "    train_set_y_orig = train_set_y_orig.reshape((1, train_set_y_orig.shape[0]))\n",
    "    test_set_y_orig = test_set_y_orig.reshape((1, test_set_y_orig.shape[0]))\n",
    "    \n",
    "    return train_set_x_orig, train_set_y_orig, test_set_x_orig, test_set_y_orig, classes"
   ]
  },
  {
   "cell_type": "markdown",
   "metadata": {
    "id": "49_HfGwhHTBq"
   },
   "source": [
    "## Dataset\n",
    "\n",
    "To be familiar with the dataset, load the data by running the cell below."
   ]
  },
  {
   "cell_type": "code",
   "execution_count": 20,
   "metadata": {
    "id": "V9nPI0pVHTBq"
   },
   "outputs": [],
   "source": [
    "train_x_orig, train_y, test_x_orig, test_y, classes = load_data('dataset/dataset') # you need to change your dataset path"
   ]
  },
  {
   "cell_type": "markdown",
   "metadata": {
    "id": "RzK2U9WTHTBr"
   },
   "source": [
    "The following code will show you an image in the dataset. Feel free to change the index and re-run the cell multiple times to see other images. "
   ]
  },
  {
   "cell_type": "code",
   "execution_count": 21,
   "metadata": {
    "colab": {
     "base_uri": "https://localhost:8080/",
     "height": 286
    },
    "id": "bg0iPBHeHTBr",
    "outputId": "4b690c23-f876-41af-eaa2-671e4e2fa746"
   },
   "outputs": [
    {
     "name": "stdout",
     "output_type": "stream",
     "text": [
      "y = 0. It's a non-cat picture.\n"
     ]
    },
    {
     "data": {
      "image/png": "[encoded data removed]",
      "text/plain": [
       "<Figure size 360x288 with 1 Axes>"
      ]
     },
     "metadata": {
      "needs_background": "light"
     },
     "output_type": "display_data"
    }
   ],
   "source": [
    "# Example of a picture\n",
    "index = 10\n",
    "plt.imshow(train_x_orig[index])\n",
    "print (\"y = \" + str(train_y[0,index]) + \". It's a \" + classes[train_y[0,index]].decode(\"utf-8\") +  \" picture.\")"
   ]
  },
  {
   "cell_type": "code",
   "execution_count": 22,
   "metadata": {
    "colab": {
     "base_uri": "https://localhost:8080/"
    },
    "id": "fVZ-p9H2HTBr",
    "outputId": "325d5b95-aba5-4582-8acf-67c857f2b767"
   },
   "outputs": [
    {
     "name": "stdout",
     "output_type": "stream",
     "text": [
      "Number of training examples: 209\n",
      "Number of testing examples: 50\n",
      "Each image is of size: (64, 64, 3)\n",
      "train_x_orig shape: (209, 64, 64, 3)\n",
      "train_y shape: (1, 209)\n",
      "test_x_orig shape: (50, 64, 64, 3)\n",
      "test_y shape: (1, 50)\n"
     ]
    }
   ],
   "source": [
    "# Explore your dataset \n",
    "m_train = train_x_orig.shape[0]\n",
    "num_px = train_x_orig.shape[1]\n",
    "m_test = test_x_orig.shape[0]\n",
    "\n",
    "print (\"Number of training examples: \" + str(m_train))\n",
    "print (\"Number of testing examples: \" + str(m_test))\n",
    "print (\"Each image is of size: (\" + str(num_px) + \", \" + str(num_px) + \", 3)\")\n",
    "print (\"train_x_orig shape: \" + str(train_x_orig.shape))\n",
    "print (\"train_y shape: \" + str(train_y.shape))\n",
    "print (\"test_x_orig shape: \" + str(test_x_orig.shape))\n",
    "print (\"test_y shape: \" + str(test_y.shape))"
   ]
  },
  {
   "cell_type": "code",
   "execution_count": 23,
   "metadata": {
    "colab": {
     "base_uri": "https://localhost:8080/"
    },
    "id": "twxCcP5nHTBs",
    "outputId": "d2682e6b-20b0-4767-ece4-04239cd4cfd7"
   },
   "outputs": [
    {
     "name": "stdout",
     "output_type": "stream",
     "text": [
      "train_x's shape: (12288, 209)\n",
      "test_x's shape: (12288, 50)\n"
     ]
    }
   ],
   "source": [
    "# Reshape the training and test examples \n",
    "train_x_flatten = train_x_orig.reshape(train_x_orig.shape[0], -1).T   # The \"-1\" makes reshape flatten the remaining dimensions\n",
    "test_x_flatten = test_x_orig.reshape(test_x_orig.shape[0], -1).T\n",
    "\n",
    "# Standardize data to have feature values between 0 and 1.\n",
    "train_x = train_x_flatten/255.\n",
    "test_x = test_x_flatten/255.\n",
    "\n",
    "print (\"train_x's shape: \" + str(train_x.shape))\n",
    "print (\"test_x's shape: \" + str(test_x.shape))"
   ]
  },
  {
   "cell_type": "code",
   "execution_count": 24,
   "metadata": {
    "id": "hFUWrFj5HTBs"
   },
   "outputs": [],
   "source": [
    "### CONSTANTS DEFINING THE MODEL ####\n",
    "n_x = 12288     # num_px * num_px * 3\n",
    "n_h = 7\n",
    "n_y = 1\n",
    "layers_dims = (n_x, n_h, n_y)"
   ]
  },
  {
   "cell_type": "code",
   "execution_count": 25,
   "metadata": {
    "id": "omDrFxbZHTBs"
   },
   "outputs": [],
   "source": [
    "def initialize_parameters_deep(layer_dims):\n",
    "    \"\"\"\n",
    "    Arguments:\n",
    "    layer_dims -- python array (list) containing the dimensions of each layer in our network\n",
    "    \n",
    "    Returns:\n",
    "    parameters -- python dictionary containing your parameters \"W1\", \"b1\",\"W2\", \"b2\":\n",
    "    \"\"\"\n",
    "    np.random.seed(1)\n",
    "    \n",
    "    # Initialize parameters randomly\n",
    "    # I use randn instead of rand, because using randn is more accurate\n",
    "    # Also, ı also use He initialization technique for weights (source: https://towardsdatascience.com/weight-initialization-techniques-in-neural-networks-26c649eb3b78)\n",
    "    \n",
    "    n_x, n_h, n_y = layer_dims\n",
    "    parameters = {}\n",
    "    \n",
    "    parameters[\"W1\"] = np.random.randn(n_h, n_x)*np.sqrt(2/n_x)\n",
    "    parameters[\"b1\"] = np.random.randn(n_h, 1)*0.01\n",
    "    parameters[\"W2\"] = np.random.randn(n_y, n_h)*np.sqrt(2/n_h)\n",
    "    parameters[\"b2\"] = np.random.randn(n_y, 1)*0.01\n",
    "    \n",
    "    return parameters"
   ]
  },
  {
   "cell_type": "code",
   "execution_count": 26,
   "metadata": {
    "id": "Sd6A_XUiHTBt"
   },
   "outputs": [],
   "source": [
    "def linear_activation_forward(X, parameters):\n",
    "    \"\"\"\n",
    "    Implement the forward propagation\n",
    "\n",
    "    Arguments:\n",
    "    X -- input data:\n",
    "    parameters -- python dictionary containing your parameters \"W1\", \"b1\",\"W2\", \"b2\":\n",
    "\n",
    "    Returns:\n",
    "    AL -- output of the forward propogation\n",
    "    \"\"\"\n",
    "    # Funciton returns values (dictionary) that is includes Z1,A,Z2,AL for easy usage.\n",
    "    \n",
    "    # define sigmoid and parameters\n",
    "    sigmoid = lambda x: 1 / (1 + np.exp(-x))\n",
    "    W1, b1, W2, b2 = parameters[\"W1\"], parameters[\"b1\"], parameters[\"W2\"], parameters[\"b2\"]\n",
    "    \n",
    "    # I use \"@\" oparator for matrix dot multiplacition (source: https://numpy.org/doc/stable/reference/generated/numpy.dot.html)\n",
    "    \n",
    "    Z1 = W1@X + b1\n",
    "    A = np.maximum(Z1, 0) # This is Relu function.\n",
    "    Z2 = W2@A + b2\n",
    "    AL = sigmoid(Z2)\n",
    "    \n",
    "    values = {\n",
    "        \"Z1\": Z1,\n",
    "        \"A\" : A,\n",
    "        \"Z2\": Z2,\n",
    "        \"AL\": AL,\n",
    "    }\n",
    "    \n",
    "    return values"
   ]
  },
  {
   "cell_type": "code",
   "execution_count": 27,
   "metadata": {
    "id": "3nRlRJ8MHTBt"
   },
   "outputs": [],
   "source": [
    "def compute_cost(AL, Y):\n",
    "    \"\"\"\n",
    "    Implement the cost function defined by equation (7).\n",
    "\n",
    "    Arguments:\n",
    "    AL -- probability vector corresponding to your label predictions, shape (1, number of examples)\n",
    "    Y -- true \"label\" vector (for example: containing 0 if non-cat, 1 if cat), shape (1, number of examples)\n",
    "\n",
    "    Returns:\n",
    "    cost -- cost\n",
    "    \"\"\"\n",
    "    # Cost function formula in single line:\n",
    "    cost = - (np.sum(Y*np.log(AL) + (1 - Y)*np.log(1 - AL))/ Y.shape[1])\n",
    "    return cost"
   ]
  },
  {
   "cell_type": "code",
   "execution_count": 28,
   "metadata": {
    "id": "GnfFC_ivHTBt"
   },
   "outputs": [],
   "source": [
    "def linear_activation_backward(X, Y, values, parameters):\n",
    "    \"\"\"\n",
    "    Implement the backward propagation\n",
    "    \n",
    "    Arguments:\n",
    "    X -- input data\n",
    "    cost -- cost\n",
    "    \n",
    "    Returns:\n",
    "    grads --  A dictionary with the gradients\n",
    "             grads[\"dW1\"]\n",
    "             grads[\"db1\"]\n",
    "             grads[\"dW2\"]\n",
    "             grads[\"db2\"]\n",
    "    \"\"\"\n",
    "    # define values.\n",
    "    Z1 = values[\"Z1\"]\n",
    "    A = values[\"A\"]\n",
    "    AL = values[\"AL\"]\n",
    "    W2 = parameters[\"W2\"]\n",
    "    \n",
    "    # My results: \n",
    "    # L = - (y*log(AL) + (1-y)*log(1 - AL))\n",
    "    # dZ_i = dL / dZ_i\n",
    "    \n",
    "    # dZ2 = dL/dZ2 = (dL/dAL)*(dAL/dZ2)\n",
    "    # dL/dAL = (AL - Y)/AL(1 - AL) , dAL/dZ2 = AL*(1 - AL)\n",
    "    # dZ2 = AL - Y\n",
    "    dZ2 = AL - Y\n",
    "\n",
    "\n",
    "    # dZ1 = dL/dZ1 = (dL/dZ2).(dZ2/dA).(dA/dZ1)\n",
    "    # = (W2(T).dZ2)*derivativeOfRelu(Z1)\n",
    "    derivativeRelu = np.vectorize(lambda x: 1 if x>0 else 0)\n",
    "    dZ1 = (W2.transpose()@dZ2)*derivativeRelu(Z1)\n",
    "\n",
    "    # define grads and set their dimension.\n",
    "\n",
    "    dw1 = (1/m_train)*(dZ1@X.transpose())\n",
    "    db1 = (1/m_train)*np.sum(dZ1, axis = 1)\n",
    "    dw2 = (1/m_train)*(dZ2@A.transpose())\n",
    "    db2 = (1/m_train)*np.sum(dZ2, axis = 1)\n",
    "    \n",
    "    grads = {\n",
    "        \"dW1\": dw1,\n",
    "        \"db1\": np.expand_dims(db1, axis=1),\n",
    "        \"dW2\": dw2,\n",
    "        \"db2\": np.expand_dims(db2, axis=1),\n",
    "    }\n",
    "\n",
    "    return grads"
   ]
  },
  {
   "cell_type": "code",
   "execution_count": 29,
   "metadata": {
    "id": "ZQvO2qRmHTBu"
   },
   "outputs": [],
   "source": [
    "def update_parameters(parameters, grads, learning_rate):\n",
    "    \"\"\"\n",
    "    Update parameters using gradient descent\n",
    "    \n",
    "    Arguments:\n",
    "    parameters -- python dictionary containing your parameters \n",
    "    grads -- python dictionary containing your gradients, output of L_model_backward\n",
    "    \n",
    "    Returns:\n",
    "    parameters -- python dictionary containing your updated parameters \n",
    "             parameters[\"W1\"]\n",
    "             parameters[\"b1\"]\n",
    "             parameters[\"W2\"]\n",
    "             parameters[\"b2\"]\n",
    "    \"\"\"\n",
    "    for key in parameters:\n",
    "      parameters[key] = parameters[key] - learning_rate*grads[\"d\"+key]\n",
    "\n",
    "    return parameters"
   ]
  },
  {
   "cell_type": "code",
   "execution_count": 30,
   "metadata": {
    "id": "EmBoYpjuHTBu"
   },
   "outputs": [],
   "source": [
    "def predict(test_x, test_y, parameters):\n",
    "    \"\"\"\n",
    "    Predict test data\n",
    "    test_x -- test data\n",
    "    test_y -- true \"label\" vector (for example: containing 0 if non-cat, 1 if cat), shape (1, number of examples)\n",
    "    \n",
    "    Returns:\n",
    "    accuracy -- accuracy of your model\n",
    "    \n",
    "    \"\"\"\n",
    "    m_example = test_x.shape[1]\n",
    "    \n",
    "    # Get AL\n",
    "    AL = linear_activation_forward(test_x, parameters)[\"AL\"]\n",
    "    \n",
    "    # Find Accuracy\n",
    "    find_results = np.vectorize (lambda x: 1 if x > 0.5 else 0)\n",
    "    \n",
    "    # Sum of True statements divided by number of examples. \n",
    "    accuracy = np.sum(find_results(AL) == test_y)/m_example*100\n",
    "\n",
    "    return accuracy"
   ]
  },
  {
   "cell_type": "code",
   "execution_count": 31,
   "metadata": {
    "id": "ueyybmB1HTBu"
   },
   "outputs": [],
   "source": [
    "def plot_loss(costs):\n",
    "    \"\"\"\n",
    "    Plot loss\n",
    "    costs - cost of each iteration  \n",
    "    \"\"\"\n",
    "    \n",
    "    fig, ax = plt.subplots()\n",
    "    ax.plot(costs)\n",
    "    \n",
    "    # set names\n",
    "    plt.xlabel(\" number of each 100 training \")\n",
    "    plt.ylabel(\" Cost \")\n",
    "    plt.title(\" -- Plot Cost --\")\n",
    "    \n",
    "    plt.show()"
   ]
  },
  {
   "cell_type": "code",
   "execution_count": 32,
   "metadata": {
    "id": "1skRu2lrHTBu"
   },
   "outputs": [],
   "source": [
    "def two_layer_model(X, Y, layers_dims, learning_rate = 0.0075, num_iterations = 3000):\n",
    "    \"\"\"\n",
    "    Implements a two-layer neural network: LINEAR->RELU->LINEAR->SIGMOID.\n",
    "    \n",
    "    Arguments:\n",
    "    X -- input data, of shape (n_x, number of examples)\n",
    "    Y -- true \"label\" vector (containing 1 if cat, 0 if non-cat), of shape (1, number of examples)\n",
    "    layers_dims -- dimensions of the layers (n_x, n_h, n_y)\n",
    "    num_iterations -- number of iterations of the optimization loop\n",
    "    learning_rate -- learning rate of the gradient descent update rule\n",
    "    print_cost -- If set to True, this will print the cost every 100 iterations \n",
    "    \n",
    "    Returns:\n",
    "    parameters -- a dictionary containing W1, W2, b1, and b2\n",
    "    \"\"\"\n",
    "    \n",
    "    np.random.seed(1)\n",
    "    grads = {}\n",
    "    costs = []                              # to keep track of the cost\n",
    "    m = X.shape[1]                           # number of examples\n",
    "    (n_x, n_h, n_y) = layers_dims\n",
    "    \n",
    "    # Initialize parameters dictionary, by calling one of the functions you'd previously implemented\n",
    "    ### START CODE HERE ### (≈ 1 line of code)\n",
    "    parameters = initialize_parameters_deep(layers_dims)\n",
    "    ### END CODE HERE ###\n",
    "    \n",
    "    # Get W1, b1, W2 and b2 from the dictionary parameters.\n",
    "    W1 = parameters[\"W1\"]\n",
    "    b1 = parameters[\"b1\"]\n",
    "    W2 = parameters[\"W2\"]\n",
    "    b2 = parameters[\"b2\"]\n",
    "    \n",
    "    # Loop (gradient descent)\n",
    "\n",
    "    for i in range(0, num_iterations):\n",
    "\n",
    "        # Forward propagation: LINEAR -> RELU -> LINEAR -> SIGMOID. Inputs: \"X, W1, b1, W2, b2\". Output: \"A1, cache1, A2, cache2\".\n",
    "        ### START CODE HERE ### \n",
    "        values = linear_activation_forward(X, parameters)\n",
    "        AL, A, Z1, Z2 = values[\"AL\"], values[\"A\"], values[\"Z1\"], values[\"Z2\"]\n",
    "        ### END CODE HERE ###\n",
    "        \n",
    "        # Compute cost\n",
    "        ### START CODE HERE ### \n",
    "        cost = compute_cost(AL, Y)\n",
    "        ### END CODE HERE ###\n",
    "        \n",
    "        \n",
    "        # Backward propagation.\n",
    "        ### START CODE HERE ### \n",
    "        grads = linear_activation_backward(X, Y, values, parameters)\n",
    "        ### END CODE HERE ###\n",
    "\n",
    "        \n",
    "        # Update parameters.\n",
    "        ### START CODE HERE ### \n",
    "        parameters = update_parameters(parameters, grads, learning_rate)\n",
    "        ### END CODE HERE ###\n",
    "        \n",
    "        # Print the cost every 100 training example\n",
    "        if i % 100 == 0:\n",
    "            print(\"Cost after iteration {}: {}\".format(i, np.squeeze(cost)))\n",
    "        if i % 100 == 0:\n",
    "            costs.append(cost)\n",
    "\n",
    "    return parameters, costs"
   ]
  },
  {
   "cell_type": "code",
   "execution_count": 33,
   "metadata": {
    "id": "Rc9UWf9rHTBz"
   },
   "outputs": [],
   "source": [
    "def main():\n",
    "    parameters, costs = two_layer_model(train_x, train_y, layers_dims, learning_rate = 0.0075, num_iterations = 3000)\n",
    "    plot_loss(costs)\n",
    "    accuracy = predict(test_x, test_y, parameters)\n",
    "    print(f\"accuracy of model: % {accuracy} \")\n",
    "    "
   ]
  },
  {
   "cell_type": "code",
   "execution_count": 34,
   "metadata": {},
   "outputs": [
    {
     "name": "stdout",
     "output_type": "stream",
     "text": [
      "Cost after iteration 0: 0.8442035774228018\n",
      "Cost after iteration 100: 0.6091036473744577\n",
      "Cost after iteration 200: 0.549442706999768\n",
      "Cost after iteration 300: 0.4862534443906579\n",
      "Cost after iteration 400: 0.42007825371062574\n",
      "Cost after iteration 500: 0.4020006972477563\n",
      "Cost after iteration 600: 0.36346786483531607\n",
      "Cost after iteration 700: 0.3107673089450135\n",
      "Cost after iteration 800: 0.27606288504653875\n",
      "Cost after iteration 900: 0.23469793564075594\n",
      "Cost after iteration 1000: 0.2123127860429178\n",
      "Cost after iteration 1100: 0.1735655858229432\n",
      "Cost after iteration 1200: 0.1340795654742738\n",
      "Cost after iteration 1300: 0.12116204788543437\n",
      "Cost after iteration 1400: 0.08252347705966646\n",
      "Cost after iteration 1500: 0.06883201224227295\n",
      "Cost after iteration 1600: 0.05883066806994632\n",
      "Cost after iteration 1700: 0.05119638052003186\n",
      "Cost after iteration 1800: 0.04498334197265504\n",
      "Cost after iteration 1900: 0.04029178074368294\n",
      "Cost after iteration 2000: 0.03620111057653551\n",
      "Cost after iteration 2100: 0.0329126293611188\n",
      "Cost after iteration 2200: 0.030054316813973983\n",
      "Cost after iteration 2300: 0.02766315011603712\n",
      "Cost after iteration 2400: 0.025591093893740462\n",
      "Cost after iteration 2500: 0.023808657152206047\n",
      "Cost after iteration 2600: 0.022193307229074314\n",
      "Cost after iteration 2700: 0.020805672004140706\n",
      "Cost after iteration 2800: 0.019576967570318432\n",
      "Cost after iteration 2900: 0.01849934826782283\n"
     ]
    },
    {
     "data": {
      "image/png": "[encoded data removed]",
      "text/plain": [
       "<Figure size 360x288 with 1 Axes>"
      ]
     },
     "metadata": {
      "needs_background": "light"
     },
     "output_type": "display_data"
    },
    {
     "name": "stdout",
     "output_type": "stream",
     "text": [
      "accuracy of model: % 72.0 \n"
     ]
    }
   ],
   "source": [
    "main()"
   ]
  }
 ],
 "metadata": {
  "colab": {
   "collapsed_sections": [],
   "name": "starter_code_As5.ipynb",
   "provenance": []
  },
  "kernelspec": {
   "display_name": "Python 3",
   "language": "python",
   "name": "python3"
  },
  "language_info": {
   "codemirror_mode": {
    "name": "ipython",
    "version": 3
   },
   "file_extension": ".py",
   "mimetype": "text/x-python",
   "name": "python",
   "nbconvert_exporter": "python",
   "pygments_lexer": "ipython3",
   "version": "3.8.8"
  }
 },
 "nbformat": 4,
 "nbformat_minor": 1
}
